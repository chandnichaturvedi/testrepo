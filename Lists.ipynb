{
  "nbformat": 4,
  "nbformat_minor": 0,
  "metadata": {
    "colab": {
      "provenance": [],
      "authorship_tag": "ABX9TyOpDEen2DoY706rL4K/Cx8s",
      "include_colab_link": true
    },
    "kernelspec": {
      "name": "python3",
      "display_name": "Python 3"
    },
    "language_info": {
      "name": "python"
    }
  },
  "cells": [
    {
      "cell_type": "markdown",
      "metadata": {
        "id": "view-in-github",
        "colab_type": "text"
      },
      "source": [
        "<a href=\"https://colab.research.google.com/github/chandnichaturvedi/testrepo/blob/main/Lists.ipynb\" target=\"_parent\"><img src=\"https://colab.research.google.com/assets/colab-badge.svg\" alt=\"Open In Colab\"/></a>"
      ]
    },
    {
      "cell_type": "markdown",
      "source": [
        "\n",
        "Lists\n",
        "```\n",
        "# This is formatted as code\n",
        "```\n",
        "\n"
      ],
      "metadata": {
        "id": "VPUZnqVcDcet"
      }
    },
    {
      "cell_type": "code",
      "execution_count": 1,
      "metadata": {
        "colab": {
          "base_uri": "https://localhost:8080/"
        },
        "id": "QO8sWgkICyHu",
        "outputId": "30e4cbd3-b12b-4219-b596-78e628fb058c"
      },
      "outputs": [
        {
          "output_type": "execute_result",
          "data": {
            "text/plain": [
              "[1, 2, 3, 4, [4, 5, 1]]"
            ]
          },
          "metadata": {},
          "execution_count": 1
        }
      ],
      "source": [
        "list1 = [1,2,3,4,[4,5,1]]\n",
        "list1"
      ]
    },
    {
      "cell_type": "markdown",
      "source": [
        "Membership check in lists"
      ],
      "metadata": {
        "id": "kCFp_SwbEBh2"
      }
    },
    {
      "cell_type": "code",
      "source": [
        "list1 = [1,2,3,4,[4,5,1]]\n",
        "print([1,2] in list1)"
      ],
      "metadata": {
        "colab": {
          "base_uri": "https://localhost:8080/"
        },
        "id": "HSyf4FCKDlG3",
        "outputId": "c84af4e1-9fc2-4d5a-c970-d66d4ab5ab6d"
      },
      "execution_count": 2,
      "outputs": [
        {
          "output_type": "stream",
          "name": "stdout",
          "text": [
            "False\n"
          ]
        }
      ]
    },
    {
      "cell_type": "markdown",
      "source": [
        "concatenating 2 lists"
      ],
      "metadata": {
        "id": "QvDJXMcDEtDv"
      }
    },
    {
      "cell_type": "code",
      "source": [
        "list1 =[1,2,3]\n",
        "list2=[4,5,6]\n",
        "l3 = list1+list2\n",
        "l3"
      ],
      "metadata": {
        "colab": {
          "base_uri": "https://localhost:8080/"
        },
        "id": "ZOfQ_Pc_EM5d",
        "outputId": "014c5d43-2cc1-4ba5-b850-62ee22881407"
      },
      "execution_count": 4,
      "outputs": [
        {
          "output_type": "execute_result",
          "data": {
            "text/plain": [
              "[1, 2, 3, 4, 5, 6]"
            ]
          },
          "metadata": {},
          "execution_count": 4
        }
      ]
    },
    {
      "cell_type": "markdown",
      "source": [
        "replacing element of list"
      ],
      "metadata": {
        "id": "vw57yZW0FMxG"
      }
    },
    {
      "cell_type": "code",
      "source": [
        "list1[1] = 4\n",
        "list1"
      ],
      "metadata": {
        "colab": {
          "base_uri": "https://localhost:8080/"
        },
        "id": "DbbzEJTdE0q3",
        "outputId": "ccf166a0-0072-4bd6-fa7e-0d1f049f4614"
      },
      "execution_count": 5,
      "outputs": [
        {
          "output_type": "execute_result",
          "data": {
            "text/plain": [
              "[1, 4, 3]"
            ]
          },
          "metadata": {},
          "execution_count": 5
        }
      ]
    },
    {
      "cell_type": "markdown",
      "source": [
        "extend to perform concatenation in the first list"
      ],
      "metadata": {
        "id": "72HSC4BGFRQy"
      }
    },
    {
      "cell_type": "code",
      "source": [
        "list1= [1,2,3,4]\n",
        "list2 = [8,9,10]\n",
        "list1.extend(list2)\n",
        "list1"
      ],
      "metadata": {
        "colab": {
          "base_uri": "https://localhost:8080/"
        },
        "id": "Il5w9oSSFQYW",
        "outputId": "73e4286a-763d-4f98-dc8a-a845c1ee75b4"
      },
      "execution_count": 12,
      "outputs": [
        {
          "output_type": "execute_result",
          "data": {
            "text/plain": [
              "[1, 2, 3, 4, 8, 9, 10]"
            ]
          },
          "metadata": {},
          "execution_count": 12
        }
      ]
    },
    {
      "cell_type": "markdown",
      "source": [
        "append in list"
      ],
      "metadata": {
        "id": "tVOM3-DXI3Uq"
      }
    },
    {
      "cell_type": "code",
      "source": [
        "list1= [1,2,3,4]\n",
        "list2 = [8,9,10]\n",
        "list1.append(list2)\n",
        "list1"
      ],
      "metadata": {
        "colab": {
          "base_uri": "https://localhost:8080/"
        },
        "id": "5w5Ul-MyI2Pb",
        "outputId": "c28acc97-b08f-4067-f42e-c89d65760799"
      },
      "execution_count": 14,
      "outputs": [
        {
          "output_type": "execute_result",
          "data": {
            "text/plain": [
              "[1, 2, 3, 4, [8, 9, 10]]"
            ]
          },
          "metadata": {},
          "execution_count": 14
        }
      ]
    },
    {
      "cell_type": "markdown",
      "source": [
        "delete in list"
      ],
      "metadata": {
        "id": "fRkh_eXKJCfU"
      }
    },
    {
      "cell_type": "code",
      "source": [
        "list1= [1,2,3,4]\n",
        "del(list1[1])\n",
        "list1\n"
      ],
      "metadata": {
        "colab": {
          "base_uri": "https://localhost:8080/"
        },
        "id": "4I5gacbvJBGS",
        "outputId": "663ff8e7-c3e3-4673-8bcf-001641a8f3d5"
      },
      "execution_count": 18,
      "outputs": [
        {
          "output_type": "execute_result",
          "data": {
            "text/plain": [
              "[1, 3, 4]"
            ]
          },
          "metadata": {},
          "execution_count": 18
        }
      ]
    },
    {
      "cell_type": "markdown",
      "source": [
        "remove first occurence of 4"
      ],
      "metadata": {
        "id": "1S8ZGwDTKCNP"
      }
    },
    {
      "cell_type": "code",
      "source": [
        "list1= [1,2,3,4,4,5.6,7]\n",
        "list1.remove(4)\n",
        "list1"
      ],
      "metadata": {
        "colab": {
          "base_uri": "https://localhost:8080/"
        },
        "id": "dCGzBbrkJdRu",
        "outputId": "61eb5682-a773-4a1d-d0c3-db3c45591760"
      },
      "execution_count": 25,
      "outputs": [
        {
          "output_type": "execute_result",
          "data": {
            "text/plain": [
              "[1, 2, 3, 4, 5.6, 7]"
            ]
          },
          "metadata": {},
          "execution_count": 25
        }
      ]
    },
    {
      "cell_type": "code",
      "source": [
        "pops print out the element removed based on index"
      ],
      "metadata": {
        "id": "ThOyxu2zKK9c"
      },
      "execution_count": null,
      "outputs": []
    },
    {
      "cell_type": "code",
      "source": [
        "list1= [1,2,3,4,4,5.6,7]\n",
        "list1.pop(4)"
      ],
      "metadata": {
        "colab": {
          "base_uri": "https://localhost:8080/"
        },
        "id": "obYWVzb_KEp4",
        "outputId": "555626f9-572a-47f7-b410-d63b9f33472f"
      },
      "execution_count": 27,
      "outputs": [
        {
          "output_type": "execute_result",
          "data": {
            "text/plain": [
              "4"
            ]
          },
          "metadata": {},
          "execution_count": 27
        }
      ]
    },
    {
      "cell_type": "markdown",
      "source": [
        "storing sorted values in another list"
      ],
      "metadata": {
        "id": "He_GsAaSKzaq"
      }
    },
    {
      "cell_type": "code",
      "source": [
        "list1= [1,2,3,4,4,5,8,3,7,6,7]\n",
        "list2 = sorted(list1)\n",
        "list2\n"
      ],
      "metadata": {
        "colab": {
          "base_uri": "https://localhost:8080/"
        },
        "id": "UvzMUIWCKiHb",
        "outputId": "111bbd57-cb52-42dd-a66c-72fb7256398b"
      },
      "execution_count": 34,
      "outputs": [
        {
          "output_type": "execute_result",
          "data": {
            "text/plain": [
              "[1, 2, 3, 3, 4, 4, 5, 6, 7, 7, 8]"
            ]
          },
          "metadata": {},
          "execution_count": 34
        }
      ]
    },
    {
      "cell_type": "markdown",
      "source": [
        "sorting the values of list and printing"
      ],
      "metadata": {
        "id": "QJ1kmM2eK3wF"
      }
    },
    {
      "cell_type": "code",
      "source": [
        "list1= [1,2,3,4,4,5,8,3,7,6,7]\n",
        "list1.sort()\n",
        "list1\n"
      ],
      "metadata": {
        "colab": {
          "base_uri": "https://localhost:8080/"
        },
        "id": "WQLiLF-BKR6m",
        "outputId": "b9a8e05a-f431-4830-8f39-2bd99719faa9"
      },
      "execution_count": 30,
      "outputs": [
        {
          "output_type": "execute_result",
          "data": {
            "text/plain": [
              "[1, 2, 3, 3, 4, 4, 5, 6, 7, 7, 8]"
            ]
          },
          "metadata": {},
          "execution_count": 30
        }
      ]
    },
    {
      "cell_type": "markdown",
      "source": [
        "copy items in a list"
      ],
      "metadata": {
        "id": "Q9gkHFghMx7A"
      }
    },
    {
      "cell_type": "code",
      "source": [
        "list1= [1,2,3,4,5,8]\n",
        "l2 = list1\n",
        "l2"
      ],
      "metadata": {
        "colab": {
          "base_uri": "https://localhost:8080/"
        },
        "id": "oj0JS2YvK7gf",
        "outputId": "2f6f12a3-10b1-41cd-8abc-0f3af1b7dabf"
      },
      "execution_count": 38,
      "outputs": [
        {
          "output_type": "execute_result",
          "data": {
            "text/plain": [
              "[1, 2, 3, 4, 5, 8]"
            ]
          },
          "metadata": {},
          "execution_count": 38
        }
      ]
    },
    {
      "cell_type": "markdown",
      "source": [
        "copy creates a external variable"
      ],
      "metadata": {
        "id": "OF9lop3CNmL9"
      }
    },
    {
      "cell_type": "code",
      "source": [
        "l1 = [1,2,3,4,5,6,7,8,9]\n",
        "l2 = l1.copy()\n",
        "l2"
      ],
      "metadata": {
        "colab": {
          "base_uri": "https://localhost:8080/"
        },
        "id": "24Ci8Oz4NYMP",
        "outputId": "52003b53-3e35-4554-ddc3-6a9a4cfa3fa2"
      },
      "execution_count": 39,
      "outputs": [
        {
          "output_type": "execute_result",
          "data": {
            "text/plain": [
              "[1, 2, 3, 4, 5, 6, 7, 8, 9]"
            ]
          },
          "metadata": {},
          "execution_count": 39
        }
      ]
    },
    {
      "cell_type": "markdown",
      "source": [
        "check if extending is used in list1 , list2 also gets the value or not ?"
      ],
      "metadata": {
        "id": "EeT4nEwIOGgW"
      }
    },
    {
      "cell_type": "code",
      "source": [],
      "metadata": {
        "id": "kHkJ63uPOFuC"
      },
      "execution_count": null,
      "outputs": []
    },
    {
      "cell_type": "code",
      "source": [
        "l1 = [1,2,3,4]\n",
        "l1 = [i for i in l1 if i >2]\n",
        "l1\n",
        "\n"
      ],
      "metadata": {
        "colab": {
          "base_uri": "https://localhost:8080/"
        },
        "id": "Ex1ShomROMqN",
        "outputId": "e6219ce6-e0aa-468e-c455-d736a7d770a5"
      },
      "execution_count": 51,
      "outputs": [
        {
          "output_type": "execute_result",
          "data": {
            "text/plain": [
              "[3, 4]"
            ]
          },
          "metadata": {},
          "execution_count": 51
        }
      ]
    }
  ]
}