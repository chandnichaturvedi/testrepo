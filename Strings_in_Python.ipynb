{
  "nbformat": 4,
  "nbformat_minor": 0,
  "metadata": {
    "colab": {
      "provenance": [],
      "authorship_tag": "ABX9TyOhTXL2yffjUMtvNY6k1zVY",
      "include_colab_link": true
    },
    "kernelspec": {
      "name": "python3",
      "display_name": "Python 3"
    },
    "language_info": {
      "name": "python"
    }
  },
  "cells": [
    {
      "cell_type": "markdown",
      "metadata": {
        "id": "view-in-github",
        "colab_type": "text"
      },
      "source": [
        "<a href=\"https://colab.research.google.com/github/chandnichaturvedi/testrepo/blob/main/Strings_in_Python.ipynb\" target=\"_parent\"><img src=\"https://colab.research.google.com/assets/colab-badge.svg\" alt=\"Open In Colab\"/></a>"
      ]
    },
    {
      "cell_type": "code",
      "execution_count": null,
      "metadata": {
        "colab": {
          "base_uri": "https://localhost:8080/"
        },
        "id": "d_pZVakI-aZh",
        "outputId": "cc655f7c-9345-4f39-eab0-698d6a986695"
      },
      "outputs": [
        {
          "output_type": "stream",
          "name": "stdout",
          "text": [
            "hello world\n"
          ]
        }
      ],
      "source": [
        "print(\"hello world\")"
      ]
    },
    {
      "cell_type": "markdown",
      "source": [
        "Passing values via external variables"
      ],
      "metadata": {
        "id": "vaeRAwwlAf4V"
      }
    },
    {
      "cell_type": "code",
      "source": [
        "print(\"hello world {0} {1}\".format(\"abc\",\"xyz\"))"
      ],
      "metadata": {
        "colab": {
          "base_uri": "https://localhost:8080/"
        },
        "id": "usPyLbZQAhJc",
        "outputId": "fdea7db8-eceb-4c08-d06a-40f9ffaeaf04"
      },
      "execution_count": null,
      "outputs": [
        {
          "output_type": "stream",
          "name": "stdout",
          "text": [
            "hello world abc xyz\n"
          ]
        }
      ]
    },
    {
      "cell_type": "markdown",
      "source": [
        "concatenation"
      ],
      "metadata": {
        "id": "bkUBEG4TDaf6"
      }
    },
    {
      "cell_type": "code",
      "source": [
        "var1 = \"abc\"\n",
        "print(f\"hello world {var1}\")"
      ],
      "metadata": {
        "colab": {
          "base_uri": "https://localhost:8080/"
        },
        "id": "kusaQUWqBA3J",
        "outputId": "a6fa73cf-1f66-48ce-93e5-b1ab38f0c84e"
      },
      "execution_count": null,
      "outputs": [
        {
          "output_type": "stream",
          "name": "stdout",
          "text": [
            "hello world abc\n"
          ]
        }
      ]
    },
    {
      "cell_type": "code",
      "source": [],
      "metadata": {
        "id": "jcIWUqt3CuQw"
      },
      "execution_count": null,
      "outputs": []
    },
    {
      "cell_type": "markdown",
      "source": [
        "Printing a line multiple times"
      ],
      "metadata": {
        "id": "vyAB6pFfDh5m"
      }
    },
    {
      "cell_type": "code",
      "source": [
        "print(\"hello world\"*4)"
      ],
      "metadata": {
        "colab": {
          "base_uri": "https://localhost:8080/"
        },
        "id": "pemKArUqBzys",
        "outputId": "e024a35d-8b03-4c2f-b33a-f055d2d45aae"
      },
      "execution_count": null,
      "outputs": [
        {
          "output_type": "stream",
          "name": "stdout",
          "text": [
            "hello worldhello worldhello worldhello world\n"
          ]
        }
      ]
    },
    {
      "cell_type": "markdown",
      "source": [
        "Multiplication"
      ],
      "metadata": {
        "id": "rWQIqikEEfcx"
      }
    },
    {
      "cell_type": "code",
      "source": [
        "print(10*3)"
      ],
      "metadata": {
        "colab": {
          "base_uri": "https://localhost:8080/"
        },
        "id": "R-aQx3waEcFM",
        "outputId": "0b8856c6-3b10-4d42-dbfb-8b291935c44c"
      },
      "execution_count": null,
      "outputs": [
        {
          "output_type": "stream",
          "name": "stdout",
          "text": [
            "30\n"
          ]
        }
      ]
    },
    {
      "cell_type": "markdown",
      "source": [
        "Power"
      ],
      "metadata": {
        "id": "59_g2UXBElZS"
      }
    },
    {
      "cell_type": "markdown",
      "source": [
        "New Line"
      ],
      "metadata": {
        "id": "ZxJ7oH2QFHEZ"
      }
    },
    {
      "cell_type": "markdown",
      "source": [],
      "metadata": {
        "id": "VpwJdl8rFHBB"
      }
    },
    {
      "cell_type": "code",
      "source": [
        "print(\"hello \\n world\")\n"
      ],
      "metadata": {
        "colab": {
          "base_uri": "https://localhost:8080/"
        },
        "id": "n0LjTEOAFLxY",
        "outputId": "aff202ed-8d7a-4f8c-9384-d6993d4da15c"
      },
      "execution_count": null,
      "outputs": [
        {
          "output_type": "stream",
          "name": "stdout",
          "text": [
            "hello \n",
            " world\n"
          ]
        }
      ]
    },
    {
      "cell_type": "markdown",
      "source": [
        "Uppercase"
      ],
      "metadata": {
        "id": "_06uvfcAGHHz"
      }
    },
    {
      "cell_type": "code",
      "source": [
        "var1 = \"hello world\"\n",
        "print(var1.upper())\n"
      ],
      "metadata": {
        "colab": {
          "base_uri": "https://localhost:8080/"
        },
        "id": "yju9-pdKGBDO",
        "outputId": "932c1979-6b86-4007-c78d-1805b76c6960"
      },
      "execution_count": null,
      "outputs": [
        {
          "output_type": "stream",
          "name": "stdout",
          "text": [
            "HELLO WORLD\n"
          ]
        }
      ]
    },
    {
      "cell_type": "markdown",
      "source": [
        "lower case"
      ],
      "metadata": {
        "id": "Yxf4szSeGJ0-"
      }
    },
    {
      "cell_type": "markdown",
      "source": [
        "Removing left and right both spaces"
      ],
      "metadata": {
        "id": "R1984h28GZTu"
      }
    },
    {
      "cell_type": "markdown",
      "source": [
        "Removing left spaces"
      ],
      "metadata": {
        "id": "TzJlyD5rGmdV"
      }
    },
    {
      "cell_type": "code",
      "source": [
        "var1 = \" hello world\"\n",
        "print(var1.lstrip())"
      ],
      "metadata": {
        "colab": {
          "base_uri": "https://localhost:8080/"
        },
        "id": "rOCwWdghGetj",
        "outputId": "06d9d9f7-6cdc-4236-9d0d-138cf634fa1a"
      },
      "execution_count": null,
      "outputs": [
        {
          "output_type": "stream",
          "name": "stdout",
          "text": [
            "hello world\n"
          ]
        }
      ]
    },
    {
      "cell_type": "markdown",
      "source": [
        "Removing right spaces"
      ],
      "metadata": {
        "id": "s8yYEK2hGzT-"
      }
    },
    {
      "cell_type": "code",
      "source": [
        "var1 = \"hello world \"\n",
        "print(var1.rstrip())"
      ],
      "metadata": {
        "colab": {
          "base_uri": "https://localhost:8080/"
        },
        "id": "I_Ih3GpmGrCS",
        "outputId": "0f3d343d-d8df-4a17-c462-494a2395a0e0"
      },
      "execution_count": null,
      "outputs": [
        {
          "output_type": "stream",
          "name": "stdout",
          "text": [
            "hello world\n"
          ]
        }
      ]
    },
    {
      "cell_type": "code",
      "source": [
        "var1 = \" hello world \"\n",
        "print(var1.strip())"
      ],
      "metadata": {
        "colab": {
          "base_uri": "https://localhost:8080/"
        },
        "id": "CPOOM4isGMC4",
        "outputId": "8c7b6b7e-700d-4c50-eaa2-171c3e3c3ae3"
      },
      "execution_count": null,
      "outputs": [
        {
          "output_type": "stream",
          "name": "stdout",
          "text": [
            "hello world\n"
          ]
        }
      ]
    },
    {
      "cell_type": "code",
      "source": [
        "var1 = \"hello world\"\n",
        "print(var1.lower())"
      ],
      "metadata": {
        "colab": {
          "base_uri": "https://localhost:8080/"
        },
        "id": "vqSIhHEHFwG1",
        "outputId": "ba2dca10-7edd-4df9-b4f3-80a8a88cd953"
      },
      "execution_count": null,
      "outputs": [
        {
          "output_type": "stream",
          "name": "stdout",
          "text": [
            "hello world\n"
          ]
        }
      ]
    },
    {
      "cell_type": "markdown",
      "source": [
        "Conactenation of 2 variables and string"
      ],
      "metadata": {
        "id": "sYCBAJ1IFrxY"
      }
    },
    {
      "cell_type": "code",
      "source": [
        "print(\"hello \" + \"world\")"
      ],
      "metadata": {
        "colab": {
          "base_uri": "https://localhost:8080/"
        },
        "id": "hKIHhSX9FQuW",
        "outputId": "a7860757-3db8-4503-97a3-9df4bd109982"
      },
      "execution_count": null,
      "outputs": [
        {
          "output_type": "stream",
          "name": "stdout",
          "text": [
            "hello world\n"
          ]
        }
      ]
    },
    {
      "cell_type": "code",
      "source": [
        "print(\"hello \\nworld\")"
      ],
      "metadata": {
        "colab": {
          "base_uri": "https://localhost:8080/"
        },
        "id": "TEoCyKeXEvhY",
        "outputId": "63a73fd1-c6a8-4a44-8f56-b7adfebfc34d"
      },
      "execution_count": null,
      "outputs": [
        {
          "output_type": "stream",
          "name": "stdout",
          "text": [
            "hello \n",
            "world\n"
          ]
        }
      ]
    },
    {
      "cell_type": "code",
      "source": [
        "print(10**3)"
      ],
      "metadata": {
        "colab": {
          "base_uri": "https://localhost:8080/"
        },
        "id": "OEMek7JUECIm",
        "outputId": "aa19124f-ab3a-4085-acf3-81a3e6db20fd"
      },
      "execution_count": null,
      "outputs": [
        {
          "output_type": "stream",
          "name": "stdout",
          "text": [
            "1000\n"
          ]
        }
      ]
    },
    {
      "cell_type": "markdown",
      "source": [
        "Divison operator"
      ],
      "metadata": {
        "id": "YQgDstihEHP_"
      }
    },
    {
      "cell_type": "code",
      "source": [
        "print(10//3)"
      ],
      "metadata": {
        "colab": {
          "base_uri": "https://localhost:8080/"
        },
        "id": "imcQrsJAD3XC",
        "outputId": "3d17c179-b769-40ad-ed18-dddee1fb0b8a"
      },
      "execution_count": null,
      "outputs": [
        {
          "output_type": "stream",
          "name": "stdout",
          "text": [
            "3\n"
          ]
        }
      ]
    },
    {
      "cell_type": "code",
      "source": [
        "print(\"hello world\",\"xyz\")"
      ],
      "metadata": {
        "colab": {
          "base_uri": "https://localhost:8080/"
        },
        "id": "ZvMqdfNRCLCT",
        "outputId": "5351513b-4f0a-465a-def3-4f3a61b22707"
      },
      "execution_count": null,
      "outputs": [
        {
          "output_type": "stream",
          "name": "stdout",
          "text": [
            "hello world xyz\n"
          ]
        }
      ]
    },
    {
      "cell_type": "markdown",
      "source": [
        "Concatenation operator"
      ],
      "metadata": {
        "id": "lzohS2WnDnsB"
      }
    },
    {
      "cell_type": "code",
      "source": [
        "print(f\"hello world\",\"xyz\")"
      ],
      "metadata": {
        "colab": {
          "base_uri": "https://localhost:8080/"
        },
        "id": "IKZGaF9sCWDL",
        "outputId": "bde44e06-94db-4cfb-c498-f68816713fc1"
      },
      "execution_count": null,
      "outputs": [
        {
          "output_type": "stream",
          "name": "stdout",
          "text": [
            "hello world xyz\n"
          ]
        }
      ]
    },
    {
      "cell_type": "code",
      "source": [
        "var1 = 10\n",
        "type(var1)"
      ],
      "metadata": {
        "colab": {
          "base_uri": "https://localhost:8080/"
        },
        "id": "9LZ13yKGC4DU",
        "outputId": "63391503-38a5-4eb4-8816-17482f1b265b"
      },
      "execution_count": null,
      "outputs": [
        {
          "output_type": "execute_result",
          "data": {
            "text/plain": [
              "int"
            ]
          },
          "metadata": {},
          "execution_count": 11
        }
      ]
    },
    {
      "cell_type": "markdown",
      "source": [
        "extracting the data type"
      ],
      "metadata": {
        "id": "5otjrXsRDVQ4"
      }
    },
    {
      "cell_type": "code",
      "source": [
        "var1 = \"10\"\n",
        "type(var1)"
      ],
      "metadata": {
        "colab": {
          "base_uri": "https://localhost:8080/"
        },
        "id": "0aK1if7VDADz",
        "outputId": "e5d95c78-de3e-4277-a53c-26de051e6845"
      },
      "execution_count": null,
      "outputs": [
        {
          "output_type": "execute_result",
          "data": {
            "text/plain": [
              "str"
            ]
          },
          "metadata": {},
          "execution_count": 12
        }
      ]
    },
    {
      "cell_type": "markdown",
      "source": [
        "Typecasting"
      ],
      "metadata": {
        "id": "sV7FIShpDRop"
      }
    },
    {
      "cell_type": "markdown",
      "source": [
        "Length of string"
      ],
      "metadata": {
        "id": "9jiu3AFYHHki"
      }
    },
    {
      "cell_type": "code",
      "source": [
        "var1 =\"hello world\"\n",
        "print(len(var1))"
      ],
      "metadata": {
        "colab": {
          "base_uri": "https://localhost:8080/"
        },
        "id": "zwJz_fXHG65Z",
        "outputId": "f28afc7a-f315-4ed9-dacb-3461ffc6ee1b"
      },
      "execution_count": null,
      "outputs": [
        {
          "output_type": "stream",
          "name": "stdout",
          "text": [
            "11\n"
          ]
        }
      ]
    },
    {
      "cell_type": "markdown",
      "source": [
        "Typecasting string to float"
      ],
      "metadata": {
        "id": "fTZ09RLqHLQU"
      }
    },
    {
      "cell_type": "code",
      "source": [
        "var1 = \"10\"\n",
        "type(float(var1))"
      ],
      "metadata": {
        "colab": {
          "base_uri": "https://localhost:8080/"
        },
        "id": "_S4PqLYnDKmL",
        "outputId": "c93d714d-e20b-43cb-d6ea-a7b4be0a1178"
      },
      "execution_count": null,
      "outputs": [
        {
          "output_type": "execute_result",
          "data": {
            "text/plain": [
              "float"
            ]
          },
          "metadata": {},
          "execution_count": 38
        }
      ]
    },
    {
      "cell_type": "markdown",
      "source": [
        "Positive Indexing"
      ],
      "metadata": {
        "id": "ygw6cEDfH1YD"
      }
    },
    {
      "cell_type": "code",
      "source": [
        "var1 = \"hello world\"\n",
        "print(var1[4])"
      ],
      "metadata": {
        "colab": {
          "base_uri": "https://localhost:8080/"
        },
        "id": "1OEm8JYsH0NK",
        "outputId": "3fd3b9cd-dc30-4c03-8dc0-260fdaca365a"
      },
      "execution_count": null,
      "outputs": [
        {
          "output_type": "stream",
          "name": "stdout",
          "text": [
            "o\n"
          ]
        }
      ]
    },
    {
      "cell_type": "markdown",
      "source": [
        "Negative indexing"
      ],
      "metadata": {
        "id": "8PiibITvId3P"
      }
    },
    {
      "cell_type": "code",
      "source": [
        "var1 = \"hello world\"\n",
        "print(var1[-1])"
      ],
      "metadata": {
        "colab": {
          "base_uri": "https://localhost:8080/"
        },
        "id": "80_fuVaOIbOD",
        "outputId": "eb3ccc1e-26c5-4d81-c7fc-637b59d6e7ba"
      },
      "execution_count": null,
      "outputs": [
        {
          "output_type": "stream",
          "name": "stdout",
          "text": [
            "d\n"
          ]
        }
      ]
    },
    {
      "cell_type": "markdown",
      "source": [
        "Slicing : Substring (Initial index inclusive and last index exclusive)"
      ],
      "metadata": {
        "id": "VWRZLwAsIudz"
      }
    },
    {
      "cell_type": "code",
      "source": [
        "var1 = \"hello world\"\n",
        "print(var1[4:7])"
      ],
      "metadata": {
        "colab": {
          "base_uri": "https://localhost:8080/"
        },
        "id": "O8FDUpZUJ5uk",
        "outputId": "c636c462-6c07-47b4-bdc3-38b212907483"
      },
      "execution_count": null,
      "outputs": [
        {
          "output_type": "stream",
          "name": "stdout",
          "text": [
            "o w\n"
          ]
        }
      ]
    },
    {
      "cell_type": "markdown",
      "source": [
        "Last characters pick"
      ],
      "metadata": {
        "id": "5Eg2EICuLODL"
      }
    },
    {
      "cell_type": "code",
      "source": [
        "var1 = \"hello world\"\n",
        "print(var1[-4:])"
      ],
      "metadata": {
        "colab": {
          "base_uri": "https://localhost:8080/"
        },
        "id": "EKCx6B8eLJ_3",
        "outputId": "d398ec16-2863-498d-90be-95b2f4c86be9"
      },
      "execution_count": null,
      "outputs": [
        {
          "output_type": "stream",
          "name": "stdout",
          "text": [
            "orld\n"
          ]
        }
      ]
    },
    {
      "cell_type": "markdown",
      "source": [
        "first character inclusive and last character exclusive"
      ],
      "metadata": {
        "id": "U5HISmi1LTYV"
      }
    },
    {
      "cell_type": "code",
      "source": [
        "var1 = \"hello world\"\n",
        "print(var1[-4:-1])"
      ],
      "metadata": {
        "colab": {
          "base_uri": "https://localhost:8080/"
        },
        "id": "n2kx_UElKbmx",
        "outputId": "3ca44730-88c6-445e-e138-9935aede4f59"
      },
      "execution_count": null,
      "outputs": [
        {
          "output_type": "stream",
          "name": "stdout",
          "text": [
            "orl\n"
          ]
        }
      ]
    },
    {
      "cell_type": "markdown",
      "source": [
        "membership check"
      ],
      "metadata": {
        "id": "42N8bG6kLhAn"
      }
    },
    {
      "cell_type": "code",
      "source": [
        "var1 = \"hello world\"\n",
        "print(\"hello\" in var1)"
      ],
      "metadata": {
        "colab": {
          "base_uri": "https://localhost:8080/"
        },
        "id": "aIF6kWCLLf6W",
        "outputId": "acb14ad1-692a-4a03-ad10-7722f6a079b7"
      },
      "execution_count": null,
      "outputs": [
        {
          "output_type": "stream",
          "name": "stdout",
          "text": [
            "True\n"
          ]
        }
      ]
    },
    {
      "cell_type": "markdown",
      "source": [
        "Splitting the string"
      ],
      "metadata": {
        "id": "p2lrED3AMGHB"
      }
    },
    {
      "cell_type": "code",
      "source": [
        "var1 = \"hello world\"\n",
        "print(var1.split())"
      ],
      "metadata": {
        "colab": {
          "base_uri": "https://localhost:8080/"
        },
        "id": "TFYL8HwWMFaY",
        "outputId": "db0947bf-57f4-49cd-a670-9bcde9c60bb3"
      },
      "execution_count": null,
      "outputs": [
        {
          "output_type": "stream",
          "name": "stdout",
          "text": [
            "['hello', 'world']\n"
          ]
        }
      ]
    },
    {
      "cell_type": "markdown",
      "source": [
        "Splitting by word"
      ],
      "metadata": {
        "id": "ZgbAt0cNM_xQ"
      }
    },
    {
      "cell_type": "code",
      "source": [
        "var1 = \"hello world\"\n",
        "print(var1.split('o'))"
      ],
      "metadata": {
        "colab": {
          "base_uri": "https://localhost:8080/"
        },
        "outputId": "26a1bd84-1e1e-4d91-9518-b2f706087495",
        "id": "9NzQp0PzM4gP"
      },
      "execution_count": null,
      "outputs": [
        {
          "output_type": "stream",
          "name": "stdout",
          "text": [
            "['hell', ' w', 'rld']\n"
          ]
        }
      ]
    },
    {
      "cell_type": "markdown",
      "source": [
        "counting total o in a string"
      ],
      "metadata": {
        "id": "JO36aA6sNlhJ"
      }
    },
    {
      "cell_type": "code",
      "source": [
        "var1 = \"hello world\"\n",
        "print(var1.count('o'))"
      ],
      "metadata": {
        "colab": {
          "base_uri": "https://localhost:8080/"
        },
        "id": "ib04_YFPNV_4",
        "outputId": "559046d3-4364-4082-f724-5795ebd7ec64"
      },
      "execution_count": null,
      "outputs": [
        {
          "output_type": "stream",
          "name": "stdout",
          "text": [
            "2\n"
          ]
        }
      ]
    },
    {
      "cell_type": "markdown",
      "source": [
        "Counting o after 5th index"
      ],
      "metadata": {
        "id": "4_iQS2C6NiXz"
      }
    },
    {
      "cell_type": "code",
      "source": [
        "var1 = \"hello world\"\n",
        "print(var1.count('o',5))"
      ],
      "metadata": {
        "colab": {
          "base_uri": "https://localhost:8080/"
        },
        "outputId": "e1ead3b7-2bc0-429b-fb93-eacf413413c4",
        "id": "9iwcNGV2Nam5"
      },
      "execution_count": null,
      "outputs": [
        {
          "output_type": "stream",
          "name": "stdout",
          "text": [
            "1\n"
          ]
        }
      ]
    },
    {
      "cell_type": "code",
      "source": [],
      "metadata": {
        "id": "gA75U4htNo47"
      },
      "execution_count": null,
      "outputs": []
    }
  ]
}