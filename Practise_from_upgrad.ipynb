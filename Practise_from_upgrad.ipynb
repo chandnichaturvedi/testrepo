{
  "nbformat": 4,
  "nbformat_minor": 0,
  "metadata": {
    "colab": {
      "provenance": [],
      "authorship_tag": "ABX9TyMeZVttqvEigw+LTq1auE+r",
      "include_colab_link": true
    },
    "kernelspec": {
      "name": "python3",
      "display_name": "Python 3"
    },
    "language_info": {
      "name": "python"
    }
  },
  "cells": [
    {
      "cell_type": "markdown",
      "metadata": {
        "id": "view-in-github",
        "colab_type": "text"
      },
      "source": [
        "<a href=\"https://colab.research.google.com/github/chandnichaturvedi/testrepo/blob/main/Practise_from_upgrad.ipynb\" target=\"_parent\"><img src=\"https://colab.research.google.com/assets/colab-badge.svg\" alt=\"Open In Colab\"/></a>"
      ]
    },
    {
      "cell_type": "markdown",
      "source": [
        "How to give input"
      ],
      "metadata": {
        "id": "kmXBkcQrAfsF"
      }
    },
    {
      "cell_type": "code",
      "execution_count": null,
      "metadata": {
        "colab": {
          "base_uri": "https://localhost:8080/"
        },
        "id": "1wiAQBzGAawA",
        "outputId": "886ea334-05f9-47b7-94f1-a3e901ad636a"
      },
      "outputs": [
        {
          "name": "stdout",
          "output_type": "stream",
          "text": [
            "what is your name?abc\n"
          ]
        }
      ],
      "source": [
        "name = input(\"what is your name?\")"
      ]
    },
    {
      "cell_type": "markdown",
      "source": [
        "Using the name input in the print command"
      ],
      "metadata": {
        "id": "PDA88ya1BflM"
      }
    },
    {
      "cell_type": "code",
      "source": [
        "print(\"Welcome to Upgrad\",name)"
      ],
      "metadata": {
        "colab": {
          "base_uri": "https://localhost:8080/"
        },
        "id": "-gp-LmcGBDPZ",
        "outputId": "f81a9d50-be99-4dab-a417-4ce07fecba50"
      },
      "execution_count": null,
      "outputs": [
        {
          "output_type": "stream",
          "name": "stdout",
          "text": [
            "Welcome to Upgrad abc\n"
          ]
        }
      ]
    },
    {
      "cell_type": "markdown",
      "source": [
        "Drawing a pattern"
      ],
      "metadata": {
        "id": "4OCTX7vRBnFb"
      }
    },
    {
      "cell_type": "code",
      "source": [
        "print(\"0\")\n",
        "print(\"|\")\n",
        "print(\"_\")\n",
        "print(\"__\")\n",
        "print(\"_______\")\n",
        "print(\"__________\")\n",
        "print(\"________________\")"
      ],
      "metadata": {
        "colab": {
          "base_uri": "https://localhost:8080/"
        },
        "id": "ZvJ2A4xvBb52",
        "outputId": "46464cae-7f0d-4529-abe4-3ed735faf8f4"
      },
      "execution_count": null,
      "outputs": [
        {
          "output_type": "stream",
          "name": "stdout",
          "text": [
            "0\n",
            "|\n",
            "_\n",
            "__\n",
            "_______\n",
            "__________\n",
            "________________\n"
          ]
        }
      ]
    },
    {
      "cell_type": "markdown",
      "source": [
        "Printing a character multiple times : character* times"
      ],
      "metadata": {
        "id": "jaRIYL2bCd1Z"
      }
    },
    {
      "cell_type": "code",
      "source": [
        "print(\"$\"* 10)"
      ],
      "metadata": {
        "colab": {
          "base_uri": "https://localhost:8080/"
        },
        "id": "iHXjSkICCc93",
        "outputId": "ec58e243-fc0c-4d07-b8f5-39f118596b0b"
      },
      "execution_count": null,
      "outputs": [
        {
          "output_type": "stream",
          "name": "stdout",
          "text": [
            "$$$$$$$$$$\n"
          ]
        }
      ]
    },
    {
      "cell_type": "markdown",
      "source": [
        "variables in python"
      ],
      "metadata": {
        "id": "SAkEpnG9D3GU"
      }
    },
    {
      "cell_type": "code",
      "source": [
        "var1 = \"Mike\"\n",
        "print(var1)"
      ],
      "metadata": {
        "colab": {
          "base_uri": "https://localhost:8080/"
        },
        "id": "7XttDuiKCyi_",
        "outputId": "49f3f1dd-fd7c-41e0-8a63-af243d4b1f17"
      },
      "execution_count": null,
      "outputs": [
        {
          "output_type": "stream",
          "name": "stdout",
          "text": [
            "Mike\n"
          ]
        }
      ]
    },
    {
      "cell_type": "code",
      "source": [
        "var2 = \"4.5\"\n",
        "print(var2)\n"
      ],
      "metadata": {
        "colab": {
          "base_uri": "https://localhost:8080/"
        },
        "id": "mqOfj3vOD_Dx",
        "outputId": "d2df1ffc-785c-4a3d-dc39-9b8906c52558"
      },
      "execution_count": null,
      "outputs": [
        {
          "output_type": "stream",
          "name": "stdout",
          "text": [
            "4.5\n"
          ]
        }
      ]
    },
    {
      "cell_type": "code",
      "source": [
        "var3 = \"6\"\n",
        "print(var3)"
      ],
      "metadata": {
        "colab": {
          "base_uri": "https://localhost:8080/"
        },
        "id": "5pPapagNEKaW",
        "outputId": "77506ffd-5d4d-4a41-d298-c2cc597e21a9"
      },
      "execution_count": null,
      "outputs": [
        {
          "output_type": "stream",
          "name": "stdout",
          "text": [
            "6\n"
          ]
        }
      ]
    },
    {
      "cell_type": "markdown",
      "source": [
        "Getting input from user and storing it in Python"
      ],
      "metadata": {
        "id": "HclhtJGbEYZ6"
      }
    },
    {
      "cell_type": "code",
      "source": [
        "number = input(\"Whats your favouriate number ?\")\n",
        "print(number)"
      ],
      "metadata": {
        "colab": {
          "base_uri": "https://localhost:8080/"
        },
        "id": "dlkeuet-ERt-",
        "outputId": "3a786bc5-4e05-48ba-8bdc-936ab6be335e"
      },
      "execution_count": null,
      "outputs": [
        {
          "output_type": "stream",
          "name": "stdout",
          "text": [
            "Whats your favouriate number ?123\n",
            "123\n"
          ]
        }
      ]
    },
    {
      "cell_type": "code",
      "source": [
        "name = input(\"Whats your name ? : \")\n",
        "print(name)\n",
        "print(\"Welcome\",name)"
      ],
      "metadata": {
        "colab": {
          "base_uri": "https://localhost:8080/"
        },
        "id": "C7nQz0VIEmT1",
        "outputId": "19762607-fded-4a47-9d8d-f4c1911c6dcd"
      },
      "execution_count": null,
      "outputs": [
        {
          "output_type": "stream",
          "name": "stdout",
          "text": [
            "Whats your name ? : abc\n",
            "abc\n",
            "Welcome abc\n"
          ]
        }
      ]
    },
    {
      "cell_type": "markdown",
      "source": [
        "Calculating the age of a person in months"
      ],
      "metadata": {
        "id": "2G_79lZFHdNW"
      }
    },
    {
      "cell_type": "code",
      "source": [
        "Age = input(\"Enter your age : \") ## this will print age 12 times since it is taking it as a string ##\n",
        "print(\"I am  :\", Age*12,\"months old\")"
      ],
      "metadata": {
        "colab": {
          "base_uri": "https://localhost:8080/"
        },
        "id": "uNxpFASEJCk7",
        "outputId": "e107dc29-cfa7-41e7-8440-986243e7ff76"
      },
      "execution_count": null,
      "outputs": [
        {
          "output_type": "stream",
          "name": "stdout",
          "text": [
            "Enter your age30\n",
            "I am  : 303030303030303030303030 months old\n"
          ]
        }
      ]
    },
    {
      "cell_type": "code",
      "source": [
        "Age = int(input(\"Enter your age : \")) ## typecasting the input age in integer in order to avoid typing age as a string multiple times##\n",
        "print(\"I am  :\", Age*12,\"months old\")"
      ],
      "metadata": {
        "colab": {
          "base_uri": "https://localhost:8080/"
        },
        "id": "rPnJQ3q3GxQS",
        "outputId": "e3fb9684-d217-4cf8-8535-9c9d600db132"
      },
      "execution_count": null,
      "outputs": [
        {
          "output_type": "stream",
          "name": "stdout",
          "text": [
            "Enter your age : 30\n",
            "I am  : 360 months old\n"
          ]
        }
      ]
    }
  ]
}